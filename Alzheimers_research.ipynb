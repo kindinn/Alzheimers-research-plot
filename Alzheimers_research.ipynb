{
 "cells": [
  {
   "cell_type": "code",
   "execution_count": 1,
   "metadata": {
    "autoscroll": false,
    "collapsed": false,
    "ein.hycell": false,
    "ein.tags": "worksheet-0",
    "slideshow": {
     "slide_type": "-"
    }
   },
   "outputs": [],
   "source": [
    "import pandas as pd\n",
    "import numpy as np\n",
    "import matplotlib.pyplot as plt\n",
    "import matplotlib as mpl\n",
    "from textwrap import wrap\n",
    "plt.style.use('Solarize_Light2')"
   ]
  },
  {
   "cell_type": "code",
   "execution_count": 2,
   "metadata": {
    "autoscroll": false,
    "collapsed": false,
    "ein.hycell": false,
    "ein.tags": "worksheet-0",
    "slideshow": {
     "slide_type": "-"
    }
   },
   "outputs": [],
   "source": [
    "data = pd.read_csv('totals.csv', index_col=0)"
   ]
  },
  {
   "cell_type": "code",
   "execution_count": 3,
   "metadata": {
    "autoscroll": false,
    "collapsed": false,
    "ein.hycell": false,
    "ein.tags": "worksheet-0",
    "slideshow": {
     "slide_type": "-"
    }
   },
   "outputs": [],
   "source": [
    "# Data extrapolation\n",
    "# Dataframe will be reversed here\n",
    "\n",
    "genes = ['abca7', 'apoe', 'app', 'bin1', 'clu', 'picalm', 'presenilin-1',\n",
    "         'presinilin-2', 'sorl-1']\n",
    "\n",
    "new_data = pd.DataFrame(columns = data.columns)\n",
    "for col in data.columns:\n",
    "    new_series = []\n",
    "    old_series = data.loc[:,col].values\n",
    "    for i in reversed(range(data.shape[0])):\n",
    "        if (i == data.shape[0]-1):\n",
    "            new_series.append(old_series[i])\n",
    "        elif (pd.isnull(old_series[i])):\n",
    "            for j in range(7):\n",
    "                new_series.append(None)\n",
    "            new_series.append(old_series[i])\n",
    "        else:\n",
    "            for j in range(1,9):\n",
    "                if col in genes:\n",
    "                    part = old_series[i]/8\n",
    "                    new_series.append(part)\n",
    "                else:\n",
    "                    part = (old_series[i] - old_series[i+1])/8\n",
    "                    new_series.append(old_series[i+1] + j*part)\n",
    "\n",
    "    new_data[col] = new_series"
   ]
  },
  {
   "cell_type": "code",
   "execution_count": 4,
   "metadata": {
    "autoscroll": false,
    "collapsed": false,
    "ein.hycell": false,
    "ein.tags": "worksheet-0",
    "slideshow": {
     "slide_type": "-"
    }
   },
   "outputs": [],
   "source": [
    "# Data from additional papers\n",
    "gene_type = ['Transport protein',\n",
    "             'Metabolism protein',\n",
    "             'Membrane protein',\n",
    "             'Adaptor protein',\n",
    "             'Chaperone protein',\n",
    "             'Assembly protein',\n",
    "             'Transmembrane protein',\n",
    "             'Transmembrane protein',\n",
    "             'Transmembrane protein']\n",
    "odds_ratio = [2.03, 3.68, 5.7, 1.2, 1.16, 0.88, 6.1, 3.8, 0.74]\n",
    "prevalence = [0.1, 0.22, 0.001, 0.29, 0.38, 0.35, 0.04, 0.0005, 0.1]"
   ]
  },
  {
   "cell_type": "code",
   "execution_count": null,
   "metadata": {
    "autoscroll": false,
    "collapsed": false,
    "ein.hycell": false,
    "ein.tags": "worksheet-0",
    "slideshow": {
     "slide_type": "-"
    }
   },
   "outputs": [],
   "source": [
    "import matplotlib.animation as animation\n",
    "\n",
    "def data_gen(i=0):\n",
    "    while i < new_data.shape[0]:\n",
    "        i+=1\n",
    "        yield new_data.iloc[:i,:]\n",
    "\n",
    "fig, ax = plt.subplots(figsize=(17,8), constrained_layout=True)\n",
    "low_y = 0.73\n",
    "ax1 = fig.add_axes([0.08, low_y , 0.15, 0.02])\n",
    "cb1 = mpl.colorbar.ColorbarBase(ax1, cmap='Reds',\n",
    "                                orientation='horizontal')\n",
    "cb1.set_ticks([0,1])\n",
    "cb1.ax.tick_params(length=0)\n",
    "cb1.ax.set_xticklabels(['low', 'high'])\n",
    "cb1.set_label('Relative risk of gene', fontsize=10, labelpad=-40, color='grey')\n",
    "\n",
    "start_coords = fig.transFigure.transform((0.085, low_y-0.09))\n",
    "end_coords = fig.transFigure.transform((0.23, low_y-0.09))\n",
    "coord_step = (end_coords[0] - start_coords[0])/8\n",
    "size_circles = []\n",
    "for i in range(9):\n",
    "    x = start_coords[0] + i*coord_step\n",
    "    y = start_coords[1]\n",
    "    circ = mpl.patches.Circle(xy=(x,y), radius=(i+1)*1.2, transform=None,\n",
    "                              facecolor='black', alpha=0.75)\n",
    "    size_circles.append(circ)\n",
    "\n",
    "ax.text(0.155, low_y-0.07, 'Relative prevalence of gene',\n",
    "        verticalalignment='bottom', horizontalalignment='center',\n",
    "        transform=fig.transFigure, fontsize=10, color='grey')\n",
    "ax.text(0.08, low_y - 0.12, 'low', verticalalignment='top', horizontalalignment='center',\n",
    "        transform=fig.transFigure, fontsize=10, color='grey')\n",
    "ax.text(0.23, low_y - 0.12, 'high', verticalalignment='top', horizontalalignment='center',\n",
    "        transform=fig.transFigure, fontsize=10, color='grey')\n",
    "\n",
    "ax.set_xlim(np.min(new_data.year), np.max(new_data.year))\n",
    "ax.set_ylabel('Number of published papers')\n",
    "ax.set_xlabel('Year')\n",
    "fig.suptitle('Alzheimer\\'s research', fontsize=16)\n",
    "\n",
    "\n",
    "def run(gen_data):\n",
    "    cur_data = gen_data\n",
    "    ylabels = [item.get_text() for item in ax.get_yticklabels()]\n",
    "    ax.clear()\n",
    "    amy_handler, = ax.plot(cur_data.year, cur_data.amyloid,\n",
    "                           label=r'Amyloid hypothesis - Build up of extracellular amyloid beta ($A_\\beta$) deposits directly cause the disease')\n",
    "    tau_handler, = ax.plot(cur_data.year, cur_data.tau,\n",
    "                      label=r'Tau hypothesis - Hyperphosporylation of tau lead to neurofibrillary tangles which ultimately cause the disease')\n",
    "    choli_handler, = ax.plot(cur_data.year, cur_data.cholinergic,\n",
    "                             label=r'Cholinergic hypothesis- The diseases is caused by reduced acetylcholine synthesis')\n",
    "\n",
    "    dot_handles = []\n",
    "    portion = 1 / len(genes)\n",
    "    max_odds = np.max(odds_ratio)\n",
    "    max_prev = np.max(prevalence)\n",
    "\n",
    "    for i, gene in enumerate(genes):\n",
    "        y = np.sum(cur_data[gene])\n",
    "        if y > 4000:\n",
    "            y = 4000\n",
    "        elif y == 0:\n",
    "            continue\n",
    "        dot_size = 10 + prevalence[i]/max_prev * 500\n",
    "        perc_odds = odds_ratio[i]/max_odds\n",
    "        label = '\\n'.join(wrap(('%s(%d) - %s'%(gene, np.sum(cur_data[gene]), gene_type[i])),30))\n",
    "        dot = ax.scatter(cur_data.loc[cur_data[gene].notnull(), 'year'].iloc[0],\n",
    "                         y, s=dot_size, color=mpl.cm.Reds(perc_odds), zorder=10,\n",
    "                         alpha=0.8,\n",
    "                         edgecolor = 'black',\n",
    "                         label=label)\n",
    "        dot_handles.append(dot)\n",
    "\n",
    "    ymin, ymax = ax.get_ylim()\n",
    "\n",
    "    if ymax > 4000:\n",
    "        ax.set_ylim(ymin, 4000)\n",
    "        ylabels[-1] = '4000+'\n",
    "        ax.set_yticklabels(ylabels)\n",
    "\n",
    "    for item in size_circles:\n",
    "        ax.add_patch(item)\n",
    "    # add the text\n",
    "    ax.text(0.155, low_y-0.07, 'Relative prevalence of gene',\n",
    "            verticalalignment='bottom', horizontalalignment='center',\n",
    "            transform=fig.transFigure, fontsize=10, color='grey')\n",
    "    ax.text(0.08, low_y - 0.12, 'low', verticalalignment='top', horizontalalignment='center',\n",
    "            transform=fig.transFigure, fontsize=10, color='grey')\n",
    "    ax.text(0.23, low_y - 0.12, 'high', verticalalignment='top', horizontalalignment='center',\n",
    "            transform=fig.transFigure, fontsize=10, color='grey')\n",
    "\n",
    "    ax.set_ylabel('Number of published papers')\n",
    "    ax.set_xlabel('Year')\n",
    "\n",
    "    second_legend = ax.legend(handles=dot_handles,\n",
    "                              bbox_to_anchor=(1.01, -0.01, 0.4, 1), loc='upper left', mode='expand',\n",
    "                              borderaxespad=0., title='Gene(total papers)      ',\n",
    "                              title_fontsize=13, labelspacing=2, handletextpad=2)\n",
    "    ax.add_artist(second_legend)\n",
    "\n",
    "    ax.legend(handles=[amy_handler, tau_handler, choli_handler],\n",
    "              bbox_to_anchor=(0.,1.02, 1.41, 1.02), loc='lower left',\n",
    "              mode='expand', borderaxespad=0., fontsize=11, title=\"Hypotheses\",\n",
    "              title_fontsize=13)\n",
    "\n",
    "\n",
    "ani = animation.FuncAnimation(fig, run, data_gen(), blit=False, interval=200,\n",
    "                              repeat=False, save_count=10000)\n",
    "ani.save(\"movie.gif\", writer=animation.PillowWriter(fps=24))"
   ]
  }
 ],
 "metadata": {
  "kernelspec": {
   "display_name": "Python 3",
   "name": "python3"
  },
  "name": "Alzheimers_research.ipynb"
 },
 "nbformat": 4,
 "nbformat_minor": 2
}
